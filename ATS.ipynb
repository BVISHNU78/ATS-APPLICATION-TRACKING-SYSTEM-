{
  "nbformat": 4,
  "nbformat_minor": 0,
  "metadata": {
    "colab": {
      "name": "ATS.ipynb",
      "provenance": [],
      "authorship_tag": "ABX9TyO5a5Dkpmf6earqrwnIHGwW",
      "include_colab_link": true
    },
    "kernelspec": {
      "name": "python3",
      "display_name": "Python 3"
    },
    "language_info": {
      "name": "python"
    }
  },
  "cells": [
    {
      "cell_type": "markdown",
      "metadata": {
        "id": "view-in-github",
        "colab_type": "text"
      },
      "source": [
        "<a href=\"https://colab.research.google.com/github/BVISHNU78/ATS-APPLICATION-TRACKING-SYSTEM-/blob/main/ATS.ipynb\" target=\"_parent\"><img src=\"https://colab.research.google.com/assets/colab-badge.svg\" alt=\"Open In Colab\"/></a>"
      ]
    },
    {
      "cell_type": "code",
      "source": [
        "import docx2txt"
      ],
      "metadata": {
        "id": "rtLm35a6InLY"
      },
      "execution_count": 12,
      "outputs": []
    },
    {
      "cell_type": "code",
      "source": [
        "#pip install docx2txt"
      ],
      "metadata": {
        "id": "0d4rLfrkO7ZW"
      },
      "execution_count": 13,
      "outputs": []
    },
    {
      "cell_type": "code",
      "source": [
        "#from google.colab import files\n",
        "#uploaded=files.upload()"
      ],
      "metadata": {
        "id": "wAT6IZqoIq8k"
      },
      "execution_count": 14,
      "outputs": []
    },
    {
      "cell_type": "code",
      "source": [
        "resume=docx2txt.process(\"resume.docx\")\n",
        "print(resume)"
      ],
      "metadata": {
        "colab": {
          "base_uri": "https://localhost:8080/"
        },
        "id": "zY7lyyyAJP0Y",
        "outputId": "a2a0685b-4c01-4bde-d93b-a7c3eff883eb"
      },
      "execution_count": 15,
      "outputs": [
        {
          "output_type": "stream",
          "name": "stdout",
          "text": [
            "VISHNU B\n",
            "\n",
            "5/19,Vaishnavam, Chittur College,\n",
            "\n",
            "Opposit Chittur College,\n",
            "\n",
            "Chittur,Palakkad\n",
            "\n",
            "678104\n",
            "\n",
            "E-mail ID:bvishnu78@gmail.com\n",
            "\n",
            "Contact No: 9747048869\n",
            "\n",
            "Github : https://github.com/BVISHNU78\n",
            "\n",
            "\n",
            "\n",
            "CAREER OBJECTIVE\n",
            "\n",
            "To pursue a career in a good manner by being a part of a dynamic Organization\n",
            "\n",
            "complementing my academic background and aiming to grow with the company professionally.\n",
            "\n",
            "\n",
            "\n",
            "WORK EXPERIENCE\n",
            "\n",
            "✓ Currently working and having 2 Years’ experience as an AI Developer cum Trainer in GATEWAY SOFTWARE SOLUTIONS, COIMBATORE from March\n",
            "\n",
            "2020.\n",
            "\n",
            "\n",
            "\n",
            "EDUCATIONAL QUALIFICATION\n",
            "\n",
            "✓ Completed my Diploma in Electrical and Electronics Engineering in St. Joseph\n",
            "\n",
            "Polytechninc College Coimbatore in the year 2016.\n",
            "\n",
            "✓ Completed my Higher studies from G.S.M.H.S.S HIGHER SECONDARY SCHOOL.\n",
            "\n",
            "✓ Completed my SSLC from VIJAYAMATHA CONVENT ENGLISH MEDIUM SCHOOL.\n",
            "\n",
            "\n",
            "\n",
            "TECHNICAL SKILLS\n",
            "\n",
            "\n",
            "\n",
            "Programming Skills:\n",
            "\n",
            "✓ C, PYTHON\n",
            "\n",
            "\n",
            "\n",
            "Simulation Software & IDE:\n",
            "\n",
            "✓ Thonny IDE\n",
            "\n",
            "✓ Jupyter Notebook\n",
            "\n",
            "✓ Google Colab\n",
            "\n",
            "✓ Arduino IDE\n",
            "\n",
            "\n",
            "\n",
            "Hardware Implementation:\n",
            "\n",
            "Microcontroller interfacing with Peripherals\n",
            "\n",
            "\n",
            "\n",
            "INTERNSHIP & EXTRA COURSES\n",
            "\n",
            "Done an INTERNSHIP at GATEWAY SOFTWARE SOLUTIONS,\n",
            "\n",
            "COIMBATORE from September 2019 to March 2020.\n",
            "\n",
            "Completed an INTERNSHIP at TECHQULARIZ AUTOMATION,\n",
            "\n",
            "COIMBATORE from July 10, 2018 to January 10, 2019.\n",
            "\n",
            "Completed an EMBEDDED SYSTEM COURSE at ACCEL IT ACADEMY\n",
            "\n",
            "PALAKKAD from january 8,2016 to july 24 2017\n",
            "\n",
            "Completed an MACHINE LEARNING WITH PYTHON ONLINE COURSE at\n",
            "\n",
            "COGNIXIA from May 8,2019 to july 10,2019.\n",
            "\n",
            "PROJECT HANDLED\n",
            "\n",
            "Some of the projects that I did recently with the above-mentioned protocols are\n",
            "\n",
            "\n",
            "\n",
            "* Hand tracking using opencv\n",
            "\n",
            "*AI Virtual mouse \n",
            "\n",
            "* Face mask recoginzation\n",
            "\n",
            "* image-digits-recoginzation-using-neural-network\n",
            "\n",
            "*logistic-regression-heart\n",
            "\n",
            "\n",
            "\n",
            "PERSONAL QUALITIES\n",
            "\n",
            "Have the ability to quickly learn and adapt to different environments and to cope up with new\n",
            "\n",
            "scenarios.\n",
            "\n",
            " Strong, optimistic & ambitious to grow with ability to work under pressure.\n",
            "\n",
            "  Having Good Leadership qualities.\n",
            "\n",
            "  Learning new things everyday\n",
            "\n",
            "\n",
            "\n",
            "AREAS OF INTEREST\n",
            "\n",
            "MACHINE LEARNING\n",
            "\n",
            "DEEPLEARNING\n",
            "\n",
            "IOT\n",
            "\n",
            "TinyML\n",
            "\n",
            "Cognitive ai\n"
          ]
        }
      ]
    },
    {
      "cell_type": "code",
      "source": [
        "job_des=docx2txt.process(\"Vishnu.docx\")\n",
        "print(job_des)"
      ],
      "metadata": {
        "colab": {
          "base_uri": "https://localhost:8080/"
        },
        "id": "c3K1siafJrnT",
        "outputId": "58b9f901-9b7d-4060-f65f-f768f6d11315"
      },
      "execution_count": 16,
      "outputs": [
        {
          "output_type": "stream",
          "name": "stdout",
          "text": [
            "An effective job title wiil typically include a general term, the level of experience and any special requirements. The general term will optimize your job title to show up in a general search for jobs of the same nature. The level of experience will help you attract the most qualified applicants by outlining the amount of responsibility and prior knowledge required. And if your position is specialized, consider including the specialization in the job title as well. But avoid using internal titles, abbreviations or acronyms to make sure people understand what your job posting is before clicking.\n",
            "\n",
            "\t\tData Scientist\n",
            "\n",
            "\t\tSenior Data Scientist\n",
            "\n",
            "\t\tData Scientist (with SAS proficiency)\n",
            "\n",
            "\t\tData Scientist (Full-Time)\n",
            "\n",
            "\t\tResearch Analyst\n",
            "\n",
            "Data Scientist job summary\n",
            "\n",
            "A good job description starts with an attention-grabbing summary of the position and its role within your company. Your summary should provide an overview of your company and expectations for the position. Outline the types of activities and responsibilities required for the job so job seekers can determine if they are qualified, or if the job is suitable for them.\n",
            "\n",
            "Example of a Data Scientist job summary\n",
            "\n",
            "Our leading data management and integration organization is currently in need of a Data Scientist to join our fast-growing team. The ideal candidate will be intricately involved in running analytical experiments in a methodical manner, and will regularly evaluate alternate models via theoretical approaches. This is the perfect opportunity for the successful candidate to become a part of an innovative and energetic team that develops analysis tools which will influence both our products and clients.\n",
            "\n",
            "Data Scientist responsibilities and duties\n",
            "\n",
            "The responsibilities and duties section is the most important part of the job description. Here you should outline the functions this position will perform on a regular basis, how the job functions within the organization and the title of the manager the person will report to.\n",
            "\n",
            "\t\tResearch and develop statistical learning models for data analysis\n",
            "\n",
            "\t\tCollaborate with product management and engineering departments to understand company needs and devise possible solutions\n",
            "\n",
            "\t\tKeep up-to-date with latest technology trends\n",
            "\n",
            "\t\tCommunicate results and ideas to key decision makers\n",
            "\n",
            "\t\tImplement new statistical or other mathematical methodologies as needed for specific models or analysis\n",
            "\n",
            "\t\tOptimize joint development efforts through appropriate database use and project design\n",
            "\n",
            "Data Scientist qualifications and skills\n",
            "\n",
            "Next, outline the required and preferred skills for your position. This may include education, previous job experience, certifications and technical skills. You may also include soft skills and personality traits that you expect from a successful candidate. While it may be tempting to include a long list of skills and requirements, including too many could dissuade qualified candidates from applying. Keep your list of qualifications concise, but provide enough detail with relevant keywords and terms.\n",
            "\n",
            "\t\tMaster’s Degree in Computer Science, Statistics, Applied Math or related field\n",
            "\n",
            "\t\t2+ years’ practical experience with SAS, ETL, data processing, database programming and data analytics\n",
            "\n",
            "\t\tExtensive background in data mining and statistical analysis\n",
            "\n",
            "\t\tAble to understand various data structures and common methods in data transformation\n",
            "\n",
            "\t\tExcellent pattern recognition and predictive modeling skills\n",
            "\n",
            "\t\tExperience with programming languages such as Java/Python an asset\n"
          ]
        }
      ]
    },
    {
      "cell_type": "code",
      "source": [
        "text=[resume,job_des]"
      ],
      "metadata": {
        "id": "jyfH7Z7SSlhs"
      },
      "execution_count": 17,
      "outputs": []
    },
    {
      "cell_type": "code",
      "source": [
        "from sklearn.feature_extraction.text import CountVectorizer\n",
        "cv=CountVectorizer()\n",
        "Count_matrix=cv.fit_transform(text)"
      ],
      "metadata": {
        "id": "tRLJzUuDSpbA"
      },
      "execution_count": 20,
      "outputs": []
    },
    {
      "cell_type": "code",
      "source": [
        "from sklearn.metrics.pairwise  import cosine_similarity\n",
        "print(\"\\nsimilarity Scores\")\n",
        "print(cosine_similarity(Count_matrix))"
      ],
      "metadata": {
        "colab": {
          "base_uri": "https://localhost:8080/"
        },
        "id": "K-YfCRTDXDrU",
        "outputId": "03389969-bafc-4bbf-ef91-10cd86bc2246"
      },
      "execution_count": 19,
      "outputs": [
        {
          "output_type": "stream",
          "name": "stdout",
          "text": [
            "\n",
            "similarity Scores\n",
            "[[1.         0.39276419]\n",
            " [0.39276419 1.        ]]\n"
          ]
        }
      ]
    },
    {
      "cell_type": "code",
      "source": [
        "matchpercentage=cosine_similarity(Count_matrix)[0][1]*100\n",
        "matchpercentage=round(matchpercentage,2)\n",
        "print(\"ur resume matches about\"+str(matchpercentage)+\"% of the job_descrpition\")"
      ],
      "metadata": {
        "colab": {
          "base_uri": "https://localhost:8080/"
        },
        "id": "uIzOpzZXkQz6",
        "outputId": "c4853009-d590-4ca0-b386-865d64823976"
      },
      "execution_count": 23,
      "outputs": [
        {
          "output_type": "stream",
          "name": "stdout",
          "text": [
            "ur resume matches about39.28% of the job_descrpition\n"
          ]
        }
      ]
    }
  ]
}